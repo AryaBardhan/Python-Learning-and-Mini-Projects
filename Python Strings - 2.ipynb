{
 "cells": [
  {
   "cell_type": "markdown",
   "metadata": {},
   "source": [
    "## Empty String\n",
    "\n",
    "If we take a number range, then the left hand side of that number is the reduction, and the right hand side of that number is the incrementation.\n",
    "\n",
    "Suppose **P = \"Python\"**\n",
    "\n",
    "**P --> 0** \n",
    "\n",
    "Here 0 is the index position, then no char can be found in the left of P, which is also a negative index position."
   ]
  },
  {
   "cell_type": "code",
   "execution_count": 3,
   "metadata": {},
   "outputs": [
    {
     "name": "stdout",
     "output_type": "stream",
     "text": [
      "\n",
      "\n"
     ]
    }
   ],
   "source": [
    "s = \"Python\"\n",
    "\n",
    "print(s * -5)\n",
    "\n",
    "print(s * 0)"
   ]
  },
  {
   "cell_type": "code",
   "execution_count": 2,
   "metadata": {},
   "outputs": [
    {
     "name": "stdout",
     "output_type": "stream",
     "text": [
      "Python\n"
     ]
    }
   ],
   "source": [
    "print(s)"
   ]
  },
  {
   "cell_type": "markdown",
   "metadata": {},
   "source": [
    "## Program to Add up the ASCII Values of any User Input String."
   ]
  },
  {
   "cell_type": "code",
   "execution_count": 5,
   "metadata": {},
   "outputs": [
    {
     "name": "stdout",
     "output_type": "stream",
     "text": [
      "Python\n",
      "642\n"
     ]
    }
   ],
   "source": [
    "def ascii_addition(string): #Python function, where string is the parameter\n",
    "    sum = 0\n",
    "    for i in string:\n",
    "        sum += ord(i) #ord() is Python function to return ASCII values, whether in single or in groups. And also, ord is a keyword in Python\n",
    "    return sum\n",
    "\n",
    "string = input(\"Please enter a string:\")\n",
    "print(string)\n",
    "print(ascii_addition(string))"
   ]
  },
  {
   "cell_type": "markdown",
   "metadata": {},
   "source": [
    "## In and Not In Operators"
   ]
  },
  {
   "cell_type": "code",
   "execution_count": 6,
   "metadata": {},
   "outputs": [
    {
     "data": {
      "text/plain": [
       "False"
      ]
     },
     "execution_count": 6,
     "metadata": {},
     "output_type": "execute_result"
    }
   ],
   "source": [
    "s = \"Python\"\n",
    "\n",
    "s not in \"Python is easy to understand\"\n",
    "\n",
    "\"\"\"Since \"Python\" is a string assigned to s, now we are assuming that the string named \"Python\" \n",
    "is not available within the second string \"Python is easy to understand\". Which is obviously FALSE, and hence \n",
    "it is returning so.\"\"\""
   ]
  },
  {
   "cell_type": "code",
   "execution_count": 20,
   "metadata": {},
   "outputs": [
    {
     "name": "stdout",
     "output_type": "stream",
     "text": [
      "Comedy\n",
      "True\n",
      "Python\n",
      "False\n",
      "Python\n",
      "True\n"
     ]
    }
   ],
   "source": [
    "i = \"Well-known quotes from The Comedy of Errors in the order in which they appear in the play. I to the world am like a drop of water\"\n",
    "\n",
    "user = input(\"Please enter a string:\")\n",
    "\n",
    "print(user)\n",
    "\n",
    "print(user in i)\n",
    "\n",
    "user_2 = input(\"Please enter a string:\")\n",
    "\n",
    "print(user_2)\n",
    "\n",
    "print(user_2 in i)\n",
    "\n",
    "user_3 = input(\"Please enter a string:\")\n",
    "\n",
    "print(user_3)\n",
    "\n",
    "print(user_3 not in i)"
   ]
  },
  {
   "cell_type": "markdown",
   "metadata": {},
   "source": [
    "## Program to Extract the First Characters of Any User Input String."
   ]
  },
  {
   "cell_type": "code",
   "execution_count": 16,
   "metadata": {},
   "outputs": [
    {
     "name": "stdout",
     "output_type": "stream",
     "text": [
      "['I', 'l', 'P']\n"
     ]
    }
   ],
   "source": [
    "def slice_input(string):\n",
    "    return  [word[0] for word in string.split()]\n",
    "\n",
    "string  = input(\"Please enter a string:\")\n",
    "\n",
    "#print(string)\n",
    "\n",
    "print(slice_input(string))"
   ]
  },
  {
   "cell_type": "markdown",
   "metadata": {},
   "source": [
    "## Task: Try a python program to extract out only the vowels from a user input string. \n",
    "### (The string should at least be a sentence)."
   ]
  }
 ],
 "metadata": {
  "interpreter": {
   "hash": "2bd04dc09fab68ca3ef149792dfe3505936e6301cdd003bc123cc71dc1164e1a"
  },
  "kernelspec": {
   "display_name": "Python 3.7.4 64-bit",
   "name": "python3"
  },
  "language_info": {
   "codemirror_mode": {
    "name": "ipython",
    "version": 3
   },
   "file_extension": ".py",
   "mimetype": "text/x-python",
   "name": "python",
   "nbconvert_exporter": "python",
   "pygments_lexer": "ipython3",
   "version": "3.7.4"
  },
  "orig_nbformat": 4
 },
 "nbformat": 4,
 "nbformat_minor": 2
}
