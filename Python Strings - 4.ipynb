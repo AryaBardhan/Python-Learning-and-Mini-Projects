{
 "cells": [
  {
   "cell_type": "markdown",
   "metadata": {},
   "source": [
    "## In-Built String Functions"
   ]
  },
  {
   "cell_type": "markdown",
   "metadata": {},
   "source": [
    "### Capitalize Function:"
   ]
  },
  {
   "cell_type": "code",
   "execution_count": 2,
   "metadata": {},
   "outputs": [
    {
     "name": "stdout",
     "output_type": "stream",
     "text": [
      "seems like its November rain.\n",
      "Seems like its november rain.\n"
     ]
    }
   ],
   "source": [
    "s = \"seems like its November rain.\"\n",
    "\n",
    "print(s)\n",
    "\n",
    "print(s.capitalize())"
   ]
  },
  {
   "cell_type": "code",
   "execution_count": 5,
   "metadata": {},
   "outputs": [
    {
     "name": "stdout",
     "output_type": "stream",
     "text": [
      "seems like @!4 %678 *7_~\n",
      "Seems like @!4 %678 *7_~\n"
     ]
    }
   ],
   "source": [
    "s = \"seems like @!4 %678 *7_~\"\n",
    "\n",
    "print(s)\n",
    "\n",
    "print(s.capitalize())"
   ]
  },
  {
   "cell_type": "markdown",
   "metadata": {},
   "source": [
    "### Lower Function:"
   ]
  },
  {
   "cell_type": "code",
   "execution_count": 6,
   "metadata": {},
   "outputs": [
    {
     "name": "stdout",
     "output_type": "stream",
     "text": [
      "IT IS THE FINAL MATCH TODAY.\n",
      "it is the final match today.\n"
     ]
    }
   ],
   "source": [
    "s = \"IT IS THE FINAL MATCH TODAY.\"\n",
    "\n",
    "print(s)\n",
    "\n",
    "print(s.lower())"
   ]
  },
  {
   "cell_type": "markdown",
   "metadata": {},
   "source": [
    "### Swapcase Function:"
   ]
  },
  {
   "cell_type": "code",
   "execution_count": 7,
   "metadata": {},
   "outputs": [
    {
     "name": "stdout",
     "output_type": "stream",
     "text": [
      "LearNiNG PyThoN\n",
      "lEARnIng pYtHOn\n"
     ]
    }
   ],
   "source": [
    "s = \"LearNiNG PyThoN\"\n",
    "\n",
    "print(s)\n",
    "\n",
    "print(s.swapcase())"
   ]
  },
  {
   "cell_type": "markdown",
   "metadata": {},
   "source": [
    "### Title Function:"
   ]
  },
  {
   "cell_type": "code",
   "execution_count": 8,
   "metadata": {},
   "outputs": [
    {
     "name": "stdout",
     "output_type": "stream",
     "text": [
      "it is saturday today.\n",
      "It Is Saturday Today.\n"
     ]
    }
   ],
   "source": [
    "s = \"it is saturday today.\"\n",
    "\n",
    "print(s) \n",
    "\n",
    "print(s.title())"
   ]
  },
  {
   "cell_type": "markdown",
   "metadata": {},
   "source": [
    "**Limitation of the title() function:** It cannot convert to uppercase selectively. But in real-life sophisticated English, we write \"Overview _**of**_ Python\" as the grammatically correct sentence, but not \"Overview **_Of_** Python\"."
   ]
  },
  {
   "cell_type": "markdown",
   "metadata": {},
   "source": [
    "### Upper Function:"
   ]
  },
  {
   "cell_type": "code",
   "execution_count": 9,
   "metadata": {},
   "outputs": [
    {
     "name": "stdout",
     "output_type": "stream",
     "text": [
      "SATURDAY\n",
      "SATURDAY\n"
     ]
    }
   ],
   "source": [
    "s = \"SATURDAY\"\n",
    "\n",
    "print(s) \n",
    "\n",
    "print(s.upper())"
   ]
  },
  {
   "cell_type": "markdown",
   "metadata": {},
   "source": [
    "**s = \"It is Weekend.\"**\n",
    "\n",
    "**\"Weekend\"** is a substring of s, i.e., \"It is Weekend.\"\n",
    "\n",
    "Hence, the **s.count('e')** function returns: **--> 3**) "
   ]
  },
  {
   "cell_type": "markdown",
   "metadata": {},
   "source": [
    "### Count Function"
   ]
  },
  {
   "cell_type": "code",
   "execution_count": 14,
   "metadata": {},
   "outputs": [
    {
     "name": "stdout",
     "output_type": "stream",
     "text": [
      "it is saturday today.\n",
      "0\n"
     ]
    }
   ],
   "source": [
    "s = \"it is saturday today\" \n",
    "\n",
    "\"\"\"\n",
    "When we assign the substring position as from 0 to 5, \n",
    "it determines that the 'a' character will only be checked within the first 6 index positions, i.e., within \"it is\".\n",
    "\n",
    "\"\"\"\n",
    "\n",
    "print(s) \n",
    "\n",
    "print(s.count('a', 0, 5)) #positional character value to find."
   ]
  },
  {
   "cell_type": "markdown",
   "metadata": {},
   "source": [
    "### Endswith Function"
   ]
  },
  {
   "cell_type": "code",
   "execution_count": 19,
   "metadata": {},
   "outputs": [
    {
     "name": "stdout",
     "output_type": "stream",
     "text": [
      "it is saturday today\n",
      "True\n"
     ]
    }
   ],
   "source": [
    "s = \"it is saturday today\" \n",
    "\n",
    "print(s) \n",
    "\n",
    "print(s.endswith('y'))"
   ]
  },
  {
   "cell_type": "markdown",
   "metadata": {},
   "source": [
    "### Find Function"
   ]
  },
  {
   "cell_type": "code",
   "execution_count": 20,
   "metadata": {},
   "outputs": [
    {
     "name": "stdout",
     "output_type": "stream",
     "text": [
      "it is saturday today\n",
      "7\n"
     ]
    }
   ],
   "source": [
    "s = \"it is saturday today\" \n",
    "\n",
    "print(s) \n",
    "\n",
    "print(s.find('a'))"
   ]
  },
  {
   "cell_type": "code",
   "execution_count": 21,
   "metadata": {},
   "outputs": [
    {
     "name": "stdout",
     "output_type": "stream",
     "text": [
      "it is saturday today\n",
      "-1\n"
     ]
    }
   ],
   "source": [
    "s = \"it is saturday today\" \n",
    "\n",
    "print(s) \n",
    "\n",
    "print(s.find('a', 0, 6))"
   ]
  },
  {
   "cell_type": "markdown",
   "metadata": {},
   "source": [
    "### Rfind Function"
   ]
  },
  {
   "cell_type": "code",
   "execution_count": 28,
   "metadata": {},
   "outputs": [
    {
     "name": "stdout",
     "output_type": "stream",
     "text": [
      "It is saturday today and I won't go out for that.\n",
      "6\n"
     ]
    }
   ],
   "source": [
    "s = \"It is saturday today and I won't go out for that.\" \n",
    "\n",
    "print(s) \n",
    "\n",
    "print(s.rfind('s')) #Basically it searches for the assigned char from which the target substring is strating."
   ]
  },
  {
   "cell_type": "markdown",
   "metadata": {},
   "source": [
    "Limitation of rfind() when the terminal substring is also starting and ending with the designated characters:"
   ]
  },
  {
   "cell_type": "code",
   "execution_count": 33,
   "metadata": {},
   "outputs": [
    {
     "name": "stdout",
     "output_type": "stream",
     "text": [
      "Itissaturdaytoday\n",
      "True\n",
      "1t3sSaturday55789\n",
      "True\n"
     ]
    }
   ],
   "source": [
    "s = \"Itissaturdaytoday\" \n",
    "\n",
    "s2 = \"1t3sSaturday55789\"\n",
    "\n",
    "print(s)\n",
    "\n",
    "print(s.isalnum())\n",
    "\n",
    "print(s2)\n",
    "\n",
    "print(s2.isalnum())"
   ]
  },
  {
   "cell_type": "markdown",
   "metadata": {},
   "source": [
    "### Isalnum, Isalpha, Isdigit, Isspace Functions"
   ]
  },
  {
   "cell_type": "code",
   "execution_count": 38,
   "metadata": {},
   "outputs": [
    {
     "name": "stdout",
     "output_type": "stream",
     "text": [
      "False\n",
      "False\n",
      "False\n",
      "True\n"
     ]
    }
   ],
   "source": [
    "s = \"     \"\n",
    "\n",
    "print(s.isalnum())\n",
    "\n",
    "print(s.isalpha())\n",
    "\n",
    "print(s.isdigit())\n",
    "\n",
    "print(s.isspace())"
   ]
  },
  {
   "cell_type": "markdown",
   "metadata": {},
   "source": [
    "### Isupper Function"
   ]
  },
  {
   "cell_type": "code",
   "execution_count": 37,
   "metadata": {},
   "outputs": [
    {
     "name": "stdout",
     "output_type": "stream",
     "text": [
      "SATURDAY S@TURDAY1234\n",
      "True\n",
      "True\n"
     ]
    }
   ],
   "source": [
    "s = \"SATURDAY\"\n",
    "\n",
    "s2 = \"S@TURDAY1234\"\n",
    "\n",
    "print(s, s2)\n",
    "\n",
    "print(s.isupper())\n",
    "\n",
    "print(s2.isupper())"
   ]
  },
  {
   "cell_type": "markdown",
   "metadata": {},
   "source": [
    "### Lstrip Function"
   ]
  },
  {
   "cell_type": "code",
   "execution_count": 43,
   "metadata": {},
   "outputs": [
    {
     "name": "stdout",
     "output_type": "stream",
     "text": [
      " functions in Python\n",
      "functions in Python\n"
     ]
    }
   ],
   "source": [
    "s = \" functions in Python\"\n",
    "\n",
    "print(s)\n",
    "\n",
    "print(s.lstrip())"
   ]
  }
 ],
 "metadata": {
  "interpreter": {
   "hash": "2bd04dc09fab68ca3ef149792dfe3505936e6301cdd003bc123cc71dc1164e1a"
  },
  "kernelspec": {
   "display_name": "Python 3.7.4 64-bit",
   "language": "python",
   "name": "python3"
  },
  "language_info": {
   "codemirror_mode": {
    "name": "ipython",
    "version": 3
   },
   "file_extension": ".py",
   "mimetype": "text/x-python",
   "name": "python",
   "nbconvert_exporter": "python",
   "pygments_lexer": "ipython3",
   "version": "3.7.4"
  },
  "orig_nbformat": 4
 },
 "nbformat": 4,
 "nbformat_minor": 2
}
