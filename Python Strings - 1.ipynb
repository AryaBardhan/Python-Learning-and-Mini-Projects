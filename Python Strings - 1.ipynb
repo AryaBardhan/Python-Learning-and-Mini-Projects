{
  "cells": [
    {
      "cell_type": "markdown",
      "metadata": {
        "id": "YsRVGvgIdMae"
      },
      "source": [
        "## Python Program to Demonstrate Strings in Original Form, and then in Reverse Form."
      ]
    },
    {
      "cell_type": "code",
      "execution_count": null,
      "metadata": {
        "colab": {
          "base_uri": "https://localhost:8080/"
        },
        "id": "wr0pyIvqUua2",
        "outputId": "6dab32b4-970c-42bf-f62a-dc90ceae72de"
      },
      "outputs": [
        {
          "name": "stdout",
          "output_type": "stream",
          "text": [
            "F u t u r e   I n s t i t u t e   o f   T e c h n o l o g y \n",
            "y g o l o n h c e T   f o   e t u t i t s n I   e r u t u F "
          ]
        }
      ],
      "source": [
        "str = \"Future Institute of Technology\"\n",
        "\n",
        "for i in str:\n",
        "  print(i, end=\" \")\n",
        "\n",
        "print()\n",
        "\n",
        "for i in str[::-1]:\n",
        "  print(i, end=\" \")\n"
      ]
    },
    {
      "cell_type": "markdown",
      "metadata": {},
      "source": [
        "## Printing a Vanilla String."
      ]
    },
    {
      "cell_type": "code",
      "execution_count": null,
      "metadata": {
        "colab": {
          "base_uri": "https://localhost:8080/"
        },
        "id": "ejjej4XDgxcS",
        "outputId": "11d2c39a-600f-4211-94e4-38863bf98192"
      },
      "outputs": [
        {
          "name": "stdout",
          "output_type": "stream",
          "text": [
            "Future Institute of Technology\n"
          ]
        }
      ],
      "source": [
        "str = \"Future Institute of Technology\"\n",
        "\n",
        "print(str)"
      ]
    },
    {
      "cell_type": "code",
      "execution_count": null,
      "metadata": {
        "colab": {
          "base_uri": "https://localhost:8080/"
        },
        "id": "ePv4bGWVjjOQ",
        "outputId": "c3761a1d-b21e-436c-d9e2-3f4e694fdf54"
      },
      "outputs": [
        {
          "name": "stdout",
          "output_type": "stream",
          "text": [
            "Today's Python class\n"
          ]
        }
      ],
      "source": [
        "str = \"Today's Python class\"\n",
        "\n",
        "print(str)"
      ]
    },
    {
      "cell_type": "markdown",
      "metadata": {},
      "source": [
        "## In-Line Concatenation of Strings."
      ]
    },
    {
      "cell_type": "code",
      "execution_count": null,
      "metadata": {
        "colab": {
          "base_uri": "https://localhost:8080/"
        },
        "id": "BFlVewl2k7_Z",
        "outputId": "d70eb3a5-a7d9-4637-c5dc-7e83ef2eee76"
      },
      "outputs": [
        {
          "name": "stdout",
          "output_type": "stream",
          "text": [
            "HelloPython\n"
          ]
        }
      ],
      "source": [
        "str1 = \"Hello\" + \"Python\"\n",
        "\n",
        "print(str1)"
      ]
    },
    {
      "cell_type": "markdown",
      "metadata": {
        "id": "X-HCIjDvldiJ"
      },
      "source": [
        "## Comparison of In-Built String Consideration Among Different Programming Languages.\n",
        "\n",
        "**System.out.println in _Java_ = printf in _C_ = print in _Python_** - All Expression Statements are By-Default Considered as Strings."
      ]
    },
    {
      "cell_type": "markdown",
      "metadata": {},
      "source": [
        "## Converting Numerical Value to String, Concatenating and Printing It."
      ]
    },
    {
      "cell_type": "code",
      "execution_count": 1,
      "metadata": {
        "colab": {
          "base_uri": "https://localhost:8080/",
          "height": 249
        },
        "id": "bXWnQuDsl_ix",
        "outputId": "80560958-1982-4e55-9a44-0ac03dae6a3d"
      },
      "outputs": [
        {
          "name": "stdout",
          "output_type": "stream",
          "text": [
            "The value of pi is:3.14\n"
          ]
        }
      ],
      "source": [
        "pi = 3.14\n",
        "\n",
        "text = \"The value of pi is:\" + str(pi)\n",
        "\n",
        "print(text)"
      ]
    },
    {
      "cell_type": "markdown",
      "metadata": {},
      "source": [
        "## How to Print the Comment Lines as Regular Strings in Python?\n",
        "\n",
        "**It Includes Both Single and Multi-Line Comments.**"
      ]
    },
    {
      "cell_type": "code",
      "execution_count": 7,
      "metadata": {},
      "outputs": [
        {
          "name": "stdout",
          "output_type": "stream",
          "text": [
            "This is a Single Line comment in String.\n",
            "This is Also a Single Line comment in String.\n",
            "After Python,\n",
            "you Can Learn NLP, Data Science or Computer Vision.\n"
          ]
        }
      ],
      "source": [
        "single_line = \"\"\"This is a Single Line comment in String.\"\"\"  #This is a Single Line Comment\n",
        "\n",
        "print(single_line)\n",
        "\n",
        "single_line2 = \"\"\"This is Also a Single Line comment in String.\"\"\"  #This is Also a Single Line Comment\n",
        "\n",
        "print(single_line2)\n",
        "\n",
        "multi_line = \"\"\"After Python,\n",
        "you Can Learn NLP, Data Science or Computer Vision.\"\"\"  #This is a Multi Line Comment\n",
        "\n",
        "print(multi_line)"
      ]
    },
    {
      "cell_type": "markdown",
      "metadata": {},
      "source": [
        "## An Elaborative Python Program to Demonstrate the Number of Vowels in a User Entered First Name."
      ]
    },
    {
      "cell_type": "code",
      "execution_count": 3,
      "metadata": {},
      "outputs": [
        {
          "name": "stdout",
          "output_type": "stream",
          "text": [
            "The Entered Name is: Python\n",
            "Name Length is: 6\n",
            "This is a Conosonant: P\n",
            "This is a Conosonant: y\n",
            "This is a Conosonant: t\n",
            "This is a Conosonant: h\n",
            "New Vowel Found in Lowercase! It is: o\n",
            "Vowel Number: 1\n",
            "This is a Conosonant: n\n"
          ]
        }
      ],
      "source": [
        "name = input(\"Please Enter Your First Name:\")\n",
        "\n",
        "print(\"The Entered Name is:\", name)\n",
        "\n",
        "print(\"Name Length is:\", len(name))\n",
        "\n",
        "v = 0\n",
        "\n",
        "for c in name:\n",
        "    if (c == \"A\" or c == \"E\" or c == \"I\" or c == \"O\" or c == \"U\"):\n",
        "        v = v + 1\n",
        "        print(\"New Vowel Found in Uppercase!\", c)\n",
        "        print(\"Vowel Number:\", v)\n",
        "    elif (c == \"a\" or c == \"e\" or c == \"i\" or c == \"o\" or c == \"u\"):\n",
        "        v = v + 1\n",
        "        print(\"New Vowel Found in Lowercase! It is:\", c)\n",
        "        print(\"Vowel Number:\", v)\n",
        "    else:\n",
        "        print(\"This is a Conosonant:\", c)"
      ]
    }
  ],
  "metadata": {
    "accelerator": "GPU",
    "colab": {
      "collapsed_sections": [],
      "name": "Python Strings - 1.ipynb",
      "provenance": []
    },
    "interpreter": {
      "hash": "2bd04dc09fab68ca3ef149792dfe3505936e6301cdd003bc123cc71dc1164e1a"
    },
    "kernelspec": {
      "display_name": "Python 3.7.4 64-bit",
      "name": "python3"
    },
    "language_info": {
      "codemirror_mode": {
        "name": "ipython",
        "version": 3
      },
      "file_extension": ".py",
      "mimetype": "text/x-python",
      "name": "python",
      "nbconvert_exporter": "python",
      "pygments_lexer": "ipython3",
      "version": "3.7.4"
    }
  },
  "nbformat": 4,
  "nbformat_minor": 0
}
