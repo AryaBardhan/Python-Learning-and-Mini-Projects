{
 "cells": [
  {
   "cell_type": "markdown",
   "metadata": {},
   "source": [
    "## Program to Show the ID Tags of Each Character of Any User Input String."
   ]
  },
  {
   "cell_type": "code",
   "execution_count": 5,
   "metadata": {},
   "outputs": [
    {
     "name": "stdout",
     "output_type": "stream",
     "text": [
      "Saturday\n",
      "ID of S is: 2187883575472\n",
      "ID of a is: 2187883342832\n",
      "ID of t is: 2187878394608\n",
      "ID of u is: 2187878450032\n",
      "ID of r is: 2187878202160\n",
      "ID of d is: 2187878408496\n",
      "ID of a is: 2187883342832\n",
      "ID of y is: 2187878438320\n",
      "None\n"
     ]
    }
   ],
   "source": [
    "string = input(\"Please enter a string:\")\n",
    "\n",
    "print(string)\n",
    "\n",
    "def id_of_chars(string):\n",
    "    for i in string:\n",
    "        print(f\"ID of {i} is: {id(i)}\")  #f or F is called Formatted string Literal. \n",
    "        \n",
    "print(id_of_chars(string))"
   ]
  },
  {
   "cell_type": "markdown",
   "metadata": {},
   "source": [
    "## Program to Show a String by Eliminating All the Vowels within It."
   ]
  },
  {
   "cell_type": "markdown",
   "metadata": {},
   "source": [
    "_Step 1:_ **Saturday**\n",
    "\n",
    "_Step 2:_ **S  t  r  d  y**\n",
    "\n",
    "_Step 3:_ **append(S  t  r  d  y)**\n",
    "\n",
    "_Step 4:_ **Strdy**"
   ]
  },
  {
   "cell_type": "code",
   "execution_count": 7,
   "metadata": {},
   "outputs": [
    {
     "name": "stdout",
     "output_type": "stream",
     "text": [
      "Microsoft\n",
      "['M', 'c', 'r', 's', 'f', 't']\n"
     ]
    }
   ],
   "source": [
    "def consonants(text):\n",
    "    consonants = []\n",
    "    for i in text:\n",
    "        if i not in \"aeiouAEIOU\":\n",
    "            consonants.append(i)\n",
    "    return consonants\n",
    "\n",
    "text = input(\"Please enter a string:\")\n",
    "\n",
    "print(text)\n",
    "\n",
    "print(consonants(text))"
   ]
  },
  {
   "cell_type": "markdown",
   "metadata": {},
   "source": [
    "## Program to Reverse the Index of a User Input String"
   ]
  },
  {
   "cell_type": "code",
   "execution_count": 1,
   "metadata": {},
   "outputs": [
    {
     "name": "stdout",
     "output_type": "stream",
     "text": [
      "Engineering\n",
      "gnireenignE\n"
     ]
    }
   ],
   "source": [
    "user = input(\"Please enter a string:\")\n",
    "\n",
    "print(user)\n",
    "\n",
    "def reverse_index(user):\n",
    "    return user[::-1]\n",
    "\n",
    "print(reverse_index(user))\n"
   ]
  },
  {
   "cell_type": "markdown",
   "metadata": {},
   "source": [
    "## Arranging the Characters of Any User Input String as per Alphabetical Order."
   ]
  },
  {
   "cell_type": "code",
   "execution_count": 9,
   "metadata": {},
   "outputs": [
    {
     "name": "stdout",
     "output_type": "stream",
     "text": [
      "This is the Halloween week\n",
      "    HTaeeeeehhiikllnosstww\n"
     ]
    }
   ],
   "source": [
    "string = input(\"Please enter a string:\")\n",
    "\n",
    "print(string)\n",
    "\n",
    "def rearrange_string(string):\n",
    "    return ''.join(sorted(string))\n",
    "\n",
    "print(rearrange_string(string))"
   ]
  }
 ],
 "metadata": {
  "interpreter": {
   "hash": "4447cc7378cf30879333494e5d460e5c62c12902847286c87503f98d25a71d26"
  },
  "kernelspec": {
   "display_name": "Python 3.8.2 64-bit",
   "name": "python3"
  },
  "language_info": {
   "codemirror_mode": {
    "name": "ipython",
    "version": 3
   },
   "file_extension": ".py",
   "mimetype": "text/x-python",
   "name": "python",
   "nbconvert_exporter": "python",
   "pygments_lexer": "ipython3",
   "version": "3.8.2"
  },
  "orig_nbformat": 4
 },
 "nbformat": 4,
 "nbformat_minor": 2
}
